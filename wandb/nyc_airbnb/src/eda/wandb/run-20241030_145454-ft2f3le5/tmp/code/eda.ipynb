{
 "cells": [
  {
   "cell_type": "code",
   "execution_count": 6,
   "id": "1f72a955",
   "metadata": {
    "scrolled": true,
    "tags": []
   },
   "outputs": [
    {
     "name": "stdout",
     "output_type": "stream",
     "text": [
      "Requirement already satisfied: wandb==0.16.0 in /Users/jerry/miniconda3/envs/nyc_airbnb_dev/lib/python3.10/site-packages (0.16.0)\n",
      "Requirement already satisfied: Click!=8.0.0,>=7.1 in /Users/jerry/miniconda3/envs/nyc_airbnb_dev/lib/python3.10/site-packages (from wandb==0.16.0) (8.1.7)\n",
      "Requirement already satisfied: GitPython!=3.1.29,>=1.0.0 in /Users/jerry/miniconda3/envs/nyc_airbnb_dev/lib/python3.10/site-packages (from wandb==0.16.0) (3.1.43)\n",
      "Requirement already satisfied: requests<3,>=2.0.0 in /Users/jerry/miniconda3/envs/nyc_airbnb_dev/lib/python3.10/site-packages (from wandb==0.16.0) (2.28.2)\n",
      "Requirement already satisfied: psutil>=5.0.0 in /Users/jerry/miniconda3/envs/nyc_airbnb_dev/lib/python3.10/site-packages (from wandb==0.16.0) (6.0.0)\n",
      "Requirement already satisfied: sentry-sdk>=1.0.0 in /Users/jerry/miniconda3/envs/nyc_airbnb_dev/lib/python3.10/site-packages (from wandb==0.16.0) (2.16.0)\n",
      "Requirement already satisfied: docker-pycreds>=0.4.0 in /Users/jerry/miniconda3/envs/nyc_airbnb_dev/lib/python3.10/site-packages (from wandb==0.16.0) (0.4.0)\n",
      "Requirement already satisfied: PyYAML in /Users/jerry/miniconda3/envs/nyc_airbnb_dev/lib/python3.10/site-packages (from wandb==0.16.0) (6.0.2)\n",
      "Requirement already satisfied: setproctitle in /Users/jerry/miniconda3/envs/nyc_airbnb_dev/lib/python3.10/site-packages (from wandb==0.16.0) (1.3.3)\n",
      "Requirement already satisfied: setuptools in /Users/jerry/miniconda3/envs/nyc_airbnb_dev/lib/python3.10/site-packages (from wandb==0.16.0) (75.1.0)\n",
      "Requirement already satisfied: appdirs>=1.4.3 in /Users/jerry/miniconda3/envs/nyc_airbnb_dev/lib/python3.10/site-packages (from wandb==0.16.0) (1.4.4)\n",
      "Requirement already satisfied: protobuf!=4.21.0,<5,>=3.19.0 in /Users/jerry/miniconda3/envs/nyc_airbnb_dev/lib/python3.10/site-packages (from wandb==0.16.0) (4.25.5)\n",
      "Requirement already satisfied: six>=1.4.0 in /Users/jerry/miniconda3/envs/nyc_airbnb_dev/lib/python3.10/site-packages (from docker-pycreds>=0.4.0->wandb==0.16.0) (1.16.0)\n",
      "Requirement already satisfied: gitdb<5,>=4.0.1 in /Users/jerry/miniconda3/envs/nyc_airbnb_dev/lib/python3.10/site-packages (from GitPython!=3.1.29,>=1.0.0->wandb==0.16.0) (4.0.11)\n",
      "Requirement already satisfied: charset-normalizer<4,>=2 in /Users/jerry/miniconda3/envs/nyc_airbnb_dev/lib/python3.10/site-packages (from requests<3,>=2.0.0->wandb==0.16.0) (3.4.0)\n",
      "Requirement already satisfied: idna<4,>=2.5 in /Users/jerry/miniconda3/envs/nyc_airbnb_dev/lib/python3.10/site-packages (from requests<3,>=2.0.0->wandb==0.16.0) (3.10)\n",
      "Requirement already satisfied: urllib3<1.27,>=1.21.1 in /Users/jerry/miniconda3/envs/nyc_airbnb_dev/lib/python3.10/site-packages (from requests<3,>=2.0.0->wandb==0.16.0) (1.26.20)\n",
      "Requirement already satisfied: certifi>=2017.4.17 in /Users/jerry/miniconda3/envs/nyc_airbnb_dev/lib/python3.10/site-packages (from requests<3,>=2.0.0->wandb==0.16.0) (2024.8.30)\n",
      "Requirement already satisfied: smmap<6,>=3.0.1 in /Users/jerry/miniconda3/envs/nyc_airbnb_dev/lib/python3.10/site-packages (from gitdb<5,>=4.0.1->GitPython!=3.1.29,>=1.0.0->wandb==0.16.0) (5.0.1)\n",
      "Requirement already satisfied: pandas-profiling==3.6.2 in /Users/jerry/miniconda3/envs/nyc_airbnb_dev/lib/python3.10/site-packages (3.6.2)\n",
      "Requirement already satisfied: scipy<1.10,>=1.4.1 in /Users/jerry/miniconda3/envs/nyc_airbnb_dev/lib/python3.10/site-packages (from pandas-profiling==3.6.2) (1.9.3)\n",
      "Collecting pandas!=1.4.0,<1.6,>1.1 (from pandas-profiling==3.6.2)\n",
      "  Using cached pandas-1.5.3-cp310-cp310-macosx_11_0_arm64.whl.metadata (11 kB)\n",
      "Requirement already satisfied: matplotlib<3.7,>=3.2 in /Users/jerry/miniconda3/envs/nyc_airbnb_dev/lib/python3.10/site-packages (from pandas-profiling==3.6.2) (3.6.3)\n",
      "Requirement already satisfied: pydantic<1.11,>=1.8.1 in /Users/jerry/miniconda3/envs/nyc_airbnb_dev/lib/python3.10/site-packages (from pandas-profiling==3.6.2) (1.10.18)\n",
      "Requirement already satisfied: PyYAML<6.1,>=5.0.0 in /Users/jerry/miniconda3/envs/nyc_airbnb_dev/lib/python3.10/site-packages (from pandas-profiling==3.6.2) (6.0.2)\n",
      "Requirement already satisfied: jinja2<3.2,>=2.11.1 in /Users/jerry/miniconda3/envs/nyc_airbnb_dev/lib/python3.10/site-packages (from pandas-profiling==3.6.2) (3.1.4)\n",
      "Requirement already satisfied: visions==0.7.5 in /Users/jerry/miniconda3/envs/nyc_airbnb_dev/lib/python3.10/site-packages (from visions[type_image_path]==0.7.5->pandas-profiling==3.6.2) (0.7.5)\n",
      "Requirement already satisfied: numpy<1.24,>=1.16.0 in /Users/jerry/miniconda3/envs/nyc_airbnb_dev/lib/python3.10/site-packages (from pandas-profiling==3.6.2) (1.23.5)\n",
      "Requirement already satisfied: htmlmin==0.1.12 in /Users/jerry/miniconda3/envs/nyc_airbnb_dev/lib/python3.10/site-packages (from pandas-profiling==3.6.2) (0.1.12)\n",
      "Requirement already satisfied: phik<0.13,>=0.11.1 in /Users/jerry/miniconda3/envs/nyc_airbnb_dev/lib/python3.10/site-packages (from pandas-profiling==3.6.2) (0.12.4)\n",
      "Requirement already satisfied: requests<2.29,>=2.24.0 in /Users/jerry/miniconda3/envs/nyc_airbnb_dev/lib/python3.10/site-packages (from pandas-profiling==3.6.2) (2.28.2)\n",
      "Requirement already satisfied: tqdm<4.65,>=4.48.2 in /Users/jerry/miniconda3/envs/nyc_airbnb_dev/lib/python3.10/site-packages (from pandas-profiling==3.6.2) (4.64.1)\n",
      "Requirement already satisfied: seaborn<0.13,>=0.10.1 in /Users/jerry/miniconda3/envs/nyc_airbnb_dev/lib/python3.10/site-packages (from pandas-profiling==3.6.2) (0.12.2)\n",
      "Requirement already satisfied: multimethod<1.10,>=1.4 in /Users/jerry/miniconda3/envs/nyc_airbnb_dev/lib/python3.10/site-packages (from pandas-profiling==3.6.2) (1.9.1)\n",
      "Requirement already satisfied: statsmodels<0.14,>=0.13.2 in /Users/jerry/miniconda3/envs/nyc_airbnb_dev/lib/python3.10/site-packages (from pandas-profiling==3.6.2) (0.13.5)\n",
      "Requirement already satisfied: typeguard<2.14,>=2.13.2 in /Users/jerry/miniconda3/envs/nyc_airbnb_dev/lib/python3.10/site-packages (from pandas-profiling==3.6.2) (2.13.3)\n",
      "Requirement already satisfied: attrs>=19.3.0 in /Users/jerry/miniconda3/envs/nyc_airbnb_dev/lib/python3.10/site-packages (from visions==0.7.5->visions[type_image_path]==0.7.5->pandas-profiling==3.6.2) (24.2.0)\n",
      "Requirement already satisfied: networkx>=2.4 in /Users/jerry/miniconda3/envs/nyc_airbnb_dev/lib/python3.10/site-packages (from visions==0.7.5->visions[type_image_path]==0.7.5->pandas-profiling==3.6.2) (3.4.2)\n",
      "Requirement already satisfied: tangled-up-in-unicode>=0.0.4 in /Users/jerry/miniconda3/envs/nyc_airbnb_dev/lib/python3.10/site-packages (from visions==0.7.5->visions[type_image_path]==0.7.5->pandas-profiling==3.6.2) (0.2.0)\n",
      "\u001b[33mWARNING: visions 0.7.5 does not provide the extra 'type-image-path'\u001b[0m\u001b[33m\n",
      "\u001b[0mRequirement already satisfied: imagehash in /Users/jerry/miniconda3/envs/nyc_airbnb_dev/lib/python3.10/site-packages (from visions[type_image_path]==0.7.5->pandas-profiling==3.6.2) (4.3.1)\n",
      "Requirement already satisfied: Pillow in /Users/jerry/miniconda3/envs/nyc_airbnb_dev/lib/python3.10/site-packages (from visions[type_image_path]==0.7.5->pandas-profiling==3.6.2) (11.0.0)\n",
      "Requirement already satisfied: MarkupSafe>=2.0 in /Users/jerry/miniconda3/envs/nyc_airbnb_dev/lib/python3.10/site-packages (from jinja2<3.2,>=2.11.1->pandas-profiling==3.6.2) (3.0.1)\n",
      "Requirement already satisfied: contourpy>=1.0.1 in /Users/jerry/miniconda3/envs/nyc_airbnb_dev/lib/python3.10/site-packages (from matplotlib<3.7,>=3.2->pandas-profiling==3.6.2) (1.3.0)\n",
      "Requirement already satisfied: cycler>=0.10 in /Users/jerry/miniconda3/envs/nyc_airbnb_dev/lib/python3.10/site-packages (from matplotlib<3.7,>=3.2->pandas-profiling==3.6.2) (0.12.1)\n",
      "Requirement already satisfied: fonttools>=4.22.0 in /Users/jerry/miniconda3/envs/nyc_airbnb_dev/lib/python3.10/site-packages (from matplotlib<3.7,>=3.2->pandas-profiling==3.6.2) (4.54.1)\n",
      "Requirement already satisfied: kiwisolver>=1.0.1 in /Users/jerry/miniconda3/envs/nyc_airbnb_dev/lib/python3.10/site-packages (from matplotlib<3.7,>=3.2->pandas-profiling==3.6.2) (1.4.7)\n",
      "Requirement already satisfied: packaging>=20.0 in /Users/jerry/miniconda3/envs/nyc_airbnb_dev/lib/python3.10/site-packages (from matplotlib<3.7,>=3.2->pandas-profiling==3.6.2) (23.2)\n",
      "Requirement already satisfied: pyparsing>=2.2.1 in /Users/jerry/miniconda3/envs/nyc_airbnb_dev/lib/python3.10/site-packages (from matplotlib<3.7,>=3.2->pandas-profiling==3.6.2) (3.2.0)\n",
      "Requirement already satisfied: python-dateutil>=2.7 in /Users/jerry/miniconda3/envs/nyc_airbnb_dev/lib/python3.10/site-packages (from matplotlib<3.7,>=3.2->pandas-profiling==3.6.2) (2.9.0)\n",
      "Requirement already satisfied: pytz>=2020.1 in /Users/jerry/miniconda3/envs/nyc_airbnb_dev/lib/python3.10/site-packages (from pandas!=1.4.0,<1.6,>1.1->pandas-profiling==3.6.2) (2023.4)\n",
      "Requirement already satisfied: joblib>=0.14.1 in /Users/jerry/miniconda3/envs/nyc_airbnb_dev/lib/python3.10/site-packages (from phik<0.13,>=0.11.1->pandas-profiling==3.6.2) (1.4.2)\n",
      "Requirement already satisfied: typing-extensions>=4.2.0 in /Users/jerry/miniconda3/envs/nyc_airbnb_dev/lib/python3.10/site-packages (from pydantic<1.11,>=1.8.1->pandas-profiling==3.6.2) (4.12.2)\n",
      "Requirement already satisfied: charset-normalizer<4,>=2 in /Users/jerry/miniconda3/envs/nyc_airbnb_dev/lib/python3.10/site-packages (from requests<2.29,>=2.24.0->pandas-profiling==3.6.2) (3.4.0)\n",
      "Requirement already satisfied: idna<4,>=2.5 in /Users/jerry/miniconda3/envs/nyc_airbnb_dev/lib/python3.10/site-packages (from requests<2.29,>=2.24.0->pandas-profiling==3.6.2) (3.10)\n",
      "Requirement already satisfied: urllib3<1.27,>=1.21.1 in /Users/jerry/miniconda3/envs/nyc_airbnb_dev/lib/python3.10/site-packages (from requests<2.29,>=2.24.0->pandas-profiling==3.6.2) (1.26.20)\n",
      "Requirement already satisfied: certifi>=2017.4.17 in /Users/jerry/miniconda3/envs/nyc_airbnb_dev/lib/python3.10/site-packages (from requests<2.29,>=2.24.0->pandas-profiling==3.6.2) (2024.8.30)\n",
      "Requirement already satisfied: patsy>=0.5.2 in /Users/jerry/miniconda3/envs/nyc_airbnb_dev/lib/python3.10/site-packages (from statsmodels<0.14,>=0.13.2->pandas-profiling==3.6.2) (0.5.6)\n",
      "Requirement already satisfied: six in /Users/jerry/miniconda3/envs/nyc_airbnb_dev/lib/python3.10/site-packages (from patsy>=0.5.2->statsmodels<0.14,>=0.13.2->pandas-profiling==3.6.2) (1.16.0)\n",
      "Requirement already satisfied: PyWavelets in /Users/jerry/miniconda3/envs/nyc_airbnb_dev/lib/python3.10/site-packages (from imagehash->visions[type_image_path]==0.7.5->pandas-profiling==3.6.2) (1.7.0)\n",
      "Using cached pandas-1.5.3-cp310-cp310-macosx_11_0_arm64.whl (10.9 MB)\n",
      "Installing collected packages: pandas\n",
      "  Attempting uninstall: pandas\n",
      "    Found existing installation: pandas 2.1.3\n",
      "    Uninstalling pandas-2.1.3:\n",
      "      Successfully uninstalled pandas-2.1.3\n",
      "Successfully installed pandas-1.5.3\n",
      "Collecting pandas==2.1.3\n",
      "  Using cached pandas-2.1.3-cp310-cp310-macosx_11_0_arm64.whl.metadata (18 kB)\n",
      "Requirement already satisfied: numpy<2,>=1.22.4 in /Users/jerry/miniconda3/envs/nyc_airbnb_dev/lib/python3.10/site-packages (from pandas==2.1.3) (1.23.5)\n",
      "Requirement already satisfied: python-dateutil>=2.8.2 in /Users/jerry/miniconda3/envs/nyc_airbnb_dev/lib/python3.10/site-packages (from pandas==2.1.3) (2.9.0)\n",
      "Requirement already satisfied: pytz>=2020.1 in /Users/jerry/miniconda3/envs/nyc_airbnb_dev/lib/python3.10/site-packages (from pandas==2.1.3) (2023.4)\n",
      "Requirement already satisfied: tzdata>=2022.1 in /Users/jerry/miniconda3/envs/nyc_airbnb_dev/lib/python3.10/site-packages (from pandas==2.1.3) (2024.2)\n",
      "Requirement already satisfied: six>=1.5 in /Users/jerry/miniconda3/envs/nyc_airbnb_dev/lib/python3.10/site-packages (from python-dateutil>=2.8.2->pandas==2.1.3) (1.16.0)\n",
      "Using cached pandas-2.1.3-cp310-cp310-macosx_11_0_arm64.whl (10.9 MB)\n",
      "Installing collected packages: pandas\n",
      "  Attempting uninstall: pandas\n",
      "    Found existing installation: pandas 1.5.3\n",
      "    Uninstalling pandas-1.5.3:\n",
      "      Successfully uninstalled pandas-1.5.3\n",
      "\u001b[31mERROR: pip's dependency resolver does not currently take into account all the packages that are installed. This behaviour is the source of the following dependency conflicts.\n",
      "pandas-profiling 3.6.2 requires pandas!=1.4.0,<1.6,>1.1, but you have pandas 2.1.3 which is incompatible.\u001b[0m\u001b[31m\n",
      "\u001b[0mSuccessfully installed pandas-2.1.3\n"
     ]
    }
   ],
   "source": [
    "!pip install wandb==0.16.0\n",
    "!pip install pandas-profiling==3.6.2\n",
    "!pip install pandas==2.1.3"
   ]
  },
  {
   "cell_type": "markdown",
   "id": "54c4f98a",
   "metadata": {},
   "source": [
    "1. Fetch the artifact we just created (sample.csv) from W&B and read it with pandas:"
   ]
  },
  {
   "cell_type": "code",
   "execution_count": 7,
   "id": "eed98c34",
   "metadata": {},
   "outputs": [
    {
     "data": {
      "text/html": [
       "Finishing last run (ID:qj701161) before initializing another..."
      ],
      "text/plain": [
       "<IPython.core.display.HTML object>"
      ]
     },
     "metadata": {},
     "output_type": "display_data"
    },
    {
     "data": {
      "text/html": [
       " View run <strong style=\"color:#cdcd00\">howling-fog-1</strong> at: <a href='https://wandb.ai/gerald-donofrio1-western-governors-university/gerald-donofrio1-western-governors-university/runs/qj701161' target=\"_blank\">https://wandb.ai/gerald-donofrio1-western-governors-university/gerald-donofrio1-western-governors-university/runs/qj701161</a><br/> View job at <a href='https://wandb.ai/gerald-donofrio1-western-governors-university/gerald-donofrio1-western-governors-university/jobs/QXJ0aWZhY3RDb2xsZWN0aW9uOjQ4Mjg5ODkzMQ==/version_details/v0' target=\"_blank\">https://wandb.ai/gerald-donofrio1-western-governors-university/gerald-donofrio1-western-governors-university/jobs/QXJ0aWZhY3RDb2xsZWN0aW9uOjQ4Mjg5ODkzMQ==/version_details/v0</a><br/>Synced 6 W&B file(s), 0 media file(s), 2 artifact file(s) and 0 other file(s)"
      ],
      "text/plain": [
       "<IPython.core.display.HTML object>"
      ]
     },
     "metadata": {},
     "output_type": "display_data"
    },
    {
     "data": {
      "text/html": [
       "Find logs at: <code>./wandb/run-20241030_145329-qj701161/logs</code>"
      ],
      "text/plain": [
       "<IPython.core.display.HTML object>"
      ]
     },
     "metadata": {},
     "output_type": "display_data"
    },
    {
     "data": {
      "text/html": [
       "Successfully finished last run (ID:qj701161). Initializing new run:<br/>"
      ],
      "text/plain": [
       "<IPython.core.display.HTML object>"
      ]
     },
     "metadata": {},
     "output_type": "display_data"
    },
    {
     "data": {
      "text/html": [
       "wandb version 0.18.5 is available!  To upgrade, please run:\n",
       " $ pip install wandb --upgrade"
      ],
      "text/plain": [
       "<IPython.core.display.HTML object>"
      ]
     },
     "metadata": {},
     "output_type": "display_data"
    },
    {
     "data": {
      "text/html": [
       "Tracking run with wandb version 0.16.0"
      ],
      "text/plain": [
       "<IPython.core.display.HTML object>"
      ]
     },
     "metadata": {},
     "output_type": "display_data"
    },
    {
     "data": {
      "text/html": [
       "Run data is saved locally in <code>/Users/jerry/Project-Build-an-ML-Pipeline-Starter/src/eda/wandb/run-20241030_145454-ft2f3le5</code>"
      ],
      "text/plain": [
       "<IPython.core.display.HTML object>"
      ]
     },
     "metadata": {},
     "output_type": "display_data"
    },
    {
     "data": {
      "text/html": [
       "Syncing run <strong><a href='https://wandb.ai/gerald-donofrio1-western-governors-university/nyc_airbnb/runs/ft2f3le5' target=\"_blank\">endless-moth-2</a></strong> to <a href='https://wandb.ai/gerald-donofrio1-western-governors-university/nyc_airbnb' target=\"_blank\">Weights & Biases</a> (<a href='https://wandb.me/run' target=\"_blank\">docs</a>)<br/>"
      ],
      "text/plain": [
       "<IPython.core.display.HTML object>"
      ]
     },
     "metadata": {},
     "output_type": "display_data"
    },
    {
     "data": {
      "text/html": [
       " View project at <a href='https://wandb.ai/gerald-donofrio1-western-governors-university/nyc_airbnb' target=\"_blank\">https://wandb.ai/gerald-donofrio1-western-governors-university/nyc_airbnb</a>"
      ],
      "text/plain": [
       "<IPython.core.display.HTML object>"
      ]
     },
     "metadata": {},
     "output_type": "display_data"
    },
    {
     "data": {
      "text/html": [
       " View run at <a href='https://wandb.ai/gerald-donofrio1-western-governors-university/nyc_airbnb/runs/ft2f3le5' target=\"_blank\">https://wandb.ai/gerald-donofrio1-western-governors-university/nyc_airbnb/runs/ft2f3le5</a>"
      ],
      "text/plain": [
       "<IPython.core.display.HTML object>"
      ]
     },
     "metadata": {},
     "output_type": "display_data"
    },
    {
     "ename": "CommError",
     "evalue": "Unable to fetch artifact with name gerald-donofrio1-western-governors-university/nyc_airbnb/sample.csv:latest",
     "output_type": "error",
     "traceback": [
      "\u001b[0;31m---------------------------------------------------------------------------\u001b[0m",
      "\u001b[0;31mValueError\u001b[0m                                Traceback (most recent call last)",
      "File \u001b[0;32m~/miniconda3/envs/nyc_airbnb_dev/lib/python3.10/site-packages/wandb/apis/normalize.py:41\u001b[0m, in \u001b[0;36mnormalize_exceptions.<locals>.wrapper\u001b[0;34m(*args, **kwargs)\u001b[0m\n\u001b[1;32m     40\u001b[0m \u001b[38;5;28;01mtry\u001b[39;00m:\n\u001b[0;32m---> 41\u001b[0m     \u001b[38;5;28;01mreturn\u001b[39;00m \u001b[43mfunc\u001b[49m\u001b[43m(\u001b[49m\u001b[38;5;241;43m*\u001b[39;49m\u001b[43margs\u001b[49m\u001b[43m,\u001b[49m\u001b[43m \u001b[49m\u001b[38;5;241;43m*\u001b[39;49m\u001b[38;5;241;43m*\u001b[39;49m\u001b[43mkwargs\u001b[49m\u001b[43m)\u001b[49m\n\u001b[1;32m     42\u001b[0m \u001b[38;5;28;01mexcept\u001b[39;00m requests\u001b[38;5;241m.\u001b[39mHTTPError \u001b[38;5;28;01mas\u001b[39;00m error:\n",
      "File \u001b[0;32m~/miniconda3/envs/nyc_airbnb_dev/lib/python3.10/site-packages/wandb/apis/public.py:1040\u001b[0m, in \u001b[0;36mApi.artifact\u001b[0;34m(self, name, type)\u001b[0m\n\u001b[1;32m   1039\u001b[0m entity, project, artifact_name \u001b[38;5;241m=\u001b[39m \u001b[38;5;28mself\u001b[39m\u001b[38;5;241m.\u001b[39m_parse_artifact_path(name)\n\u001b[0;32m-> 1040\u001b[0m artifact \u001b[38;5;241m=\u001b[39m \u001b[43mwandb\u001b[49m\u001b[38;5;241;43m.\u001b[39;49m\u001b[43mArtifact\u001b[49m\u001b[38;5;241;43m.\u001b[39;49m\u001b[43m_from_name\u001b[49m\u001b[43m(\u001b[49m\n\u001b[1;32m   1041\u001b[0m \u001b[43m    \u001b[49m\u001b[43mentity\u001b[49m\u001b[43m,\u001b[49m\u001b[43m \u001b[49m\u001b[43mproject\u001b[49m\u001b[43m,\u001b[49m\u001b[43m \u001b[49m\u001b[43martifact_name\u001b[49m\u001b[43m,\u001b[49m\u001b[43m \u001b[49m\u001b[38;5;28;43mself\u001b[39;49m\u001b[38;5;241;43m.\u001b[39;49m\u001b[43mclient\u001b[49m\n\u001b[1;32m   1042\u001b[0m \u001b[43m\u001b[49m\u001b[43m)\u001b[49m\n\u001b[1;32m   1043\u001b[0m \u001b[38;5;28;01mif\u001b[39;00m \u001b[38;5;28mtype\u001b[39m \u001b[38;5;129;01mis\u001b[39;00m \u001b[38;5;129;01mnot\u001b[39;00m \u001b[38;5;28;01mNone\u001b[39;00m \u001b[38;5;129;01mand\u001b[39;00m artifact\u001b[38;5;241m.\u001b[39mtype \u001b[38;5;241m!=\u001b[39m \u001b[38;5;28mtype\u001b[39m:\n",
      "File \u001b[0;32m~/miniconda3/envs/nyc_airbnb_dev/lib/python3.10/site-packages/wandb/sdk/artifacts/artifact.py:256\u001b[0m, in \u001b[0;36mArtifact._from_name\u001b[0;34m(cls, entity, project, name, client)\u001b[0m\n\u001b[1;32m    255\u001b[0m \u001b[38;5;28;01mif\u001b[39;00m attrs \u001b[38;5;129;01mis\u001b[39;00m \u001b[38;5;28;01mNone\u001b[39;00m:\n\u001b[0;32m--> 256\u001b[0m     \u001b[38;5;28;01mraise\u001b[39;00m \u001b[38;5;167;01mValueError\u001b[39;00m(\n\u001b[1;32m    257\u001b[0m         \u001b[38;5;124mf\u001b[39m\u001b[38;5;124m\"\u001b[39m\u001b[38;5;124mUnable to fetch artifact with name \u001b[39m\u001b[38;5;132;01m{\u001b[39;00mentity\u001b[38;5;132;01m}\u001b[39;00m\u001b[38;5;124m/\u001b[39m\u001b[38;5;132;01m{\u001b[39;00mproject\u001b[38;5;132;01m}\u001b[39;00m\u001b[38;5;124m/\u001b[39m\u001b[38;5;132;01m{\u001b[39;00mname\u001b[38;5;132;01m}\u001b[39;00m\u001b[38;5;124m\"\u001b[39m\n\u001b[1;32m    258\u001b[0m     )\n\u001b[1;32m    259\u001b[0m \u001b[38;5;28;01mreturn\u001b[39;00m \u001b[38;5;28mcls\u001b[39m\u001b[38;5;241m.\u001b[39m_from_attrs(entity, project, name, attrs, client)\n",
      "\u001b[0;31mValueError\u001b[0m: Unable to fetch artifact with name gerald-donofrio1-western-governors-university/nyc_airbnb/sample.csv:latest",
      "\nDuring handling of the above exception, another exception occurred:\n",
      "\u001b[0;31mCommError\u001b[0m                                 Traceback (most recent call last)",
      "Cell \u001b[0;32mIn[7], line 5\u001b[0m\n\u001b[1;32m      3\u001b[0m \u001b[38;5;66;03m# Note that we use save_code=True in the call to wandb.init so the notebook is uploaded and versioned by W&B\u001b[39;00m\n\u001b[1;32m      4\u001b[0m run \u001b[38;5;241m=\u001b[39m wandb\u001b[38;5;241m.\u001b[39minit(project\u001b[38;5;241m=\u001b[39m\u001b[38;5;124m\"\u001b[39m\u001b[38;5;124mnyc_airbnb\u001b[39m\u001b[38;5;124m\"\u001b[39m, group\u001b[38;5;241m=\u001b[39m\u001b[38;5;124m\"\u001b[39m\u001b[38;5;124meda\u001b[39m\u001b[38;5;124m\"\u001b[39m, save_code\u001b[38;5;241m=\u001b[39m\u001b[38;5;28;01mTrue\u001b[39;00m)\n\u001b[0;32m----> 5\u001b[0m local_path \u001b[38;5;241m=\u001b[39m \u001b[43mwandb\u001b[49m\u001b[38;5;241;43m.\u001b[39;49m\u001b[43muse_artifact\u001b[49m\u001b[43m(\u001b[49m\u001b[38;5;124;43m\"\u001b[39;49m\u001b[38;5;124;43msample.csv:latest\u001b[39;49m\u001b[38;5;124;43m\"\u001b[39;49m\u001b[43m)\u001b[49m\u001b[38;5;241m.\u001b[39mfile()\n\u001b[1;32m      6\u001b[0m df \u001b[38;5;241m=\u001b[39m pd\u001b[38;5;241m.\u001b[39mread_csv(local_path)\n",
      "File \u001b[0;32m~/miniconda3/envs/nyc_airbnb_dev/lib/python3.10/site-packages/wandb/sdk/wandb_run.py:371\u001b[0m, in \u001b[0;36m_run_decorator._noop_on_finish.<locals>.decorator_fn.<locals>.wrapper_fn\u001b[0;34m(self, *args, **kwargs)\u001b[0m\n\u001b[1;32m    368\u001b[0m \u001b[38;5;129m@functools\u001b[39m\u001b[38;5;241m.\u001b[39mwraps(func)\n\u001b[1;32m    369\u001b[0m \u001b[38;5;28;01mdef\u001b[39;00m \u001b[38;5;21mwrapper_fn\u001b[39m(\u001b[38;5;28mself\u001b[39m: Type[\u001b[38;5;124m\"\u001b[39m\u001b[38;5;124mRun\u001b[39m\u001b[38;5;124m\"\u001b[39m], \u001b[38;5;241m*\u001b[39margs: Any, \u001b[38;5;241m*\u001b[39m\u001b[38;5;241m*\u001b[39mkwargs: Any) \u001b[38;5;241m-\u001b[39m\u001b[38;5;241m>\u001b[39m Any:\n\u001b[1;32m    370\u001b[0m     \u001b[38;5;28;01mif\u001b[39;00m \u001b[38;5;129;01mnot\u001b[39;00m \u001b[38;5;28mgetattr\u001b[39m(\u001b[38;5;28mself\u001b[39m, \u001b[38;5;124m\"\u001b[39m\u001b[38;5;124m_is_finished\u001b[39m\u001b[38;5;124m\"\u001b[39m, \u001b[38;5;28;01mFalse\u001b[39;00m):\n\u001b[0;32m--> 371\u001b[0m         \u001b[38;5;28;01mreturn\u001b[39;00m \u001b[43mfunc\u001b[49m\u001b[43m(\u001b[49m\u001b[38;5;28;43mself\u001b[39;49m\u001b[43m,\u001b[49m\u001b[43m \u001b[49m\u001b[38;5;241;43m*\u001b[39;49m\u001b[43margs\u001b[49m\u001b[43m,\u001b[49m\u001b[43m \u001b[49m\u001b[38;5;241;43m*\u001b[39;49m\u001b[38;5;241;43m*\u001b[39;49m\u001b[43mkwargs\u001b[49m\u001b[43m)\u001b[49m\n\u001b[1;32m    373\u001b[0m     default_message \u001b[38;5;241m=\u001b[39m (\n\u001b[1;32m    374\u001b[0m         \u001b[38;5;124mf\u001b[39m\u001b[38;5;124m\"\u001b[39m\u001b[38;5;124mRun (\u001b[39m\u001b[38;5;132;01m{\u001b[39;00m\u001b[38;5;28mself\u001b[39m\u001b[38;5;241m.\u001b[39mid\u001b[38;5;132;01m}\u001b[39;00m\u001b[38;5;124m) is finished. The call to `\u001b[39m\u001b[38;5;132;01m{\u001b[39;00mfunc\u001b[38;5;241m.\u001b[39m\u001b[38;5;18m__name__\u001b[39m\u001b[38;5;132;01m}\u001b[39;00m\u001b[38;5;124m` will be ignored. \u001b[39m\u001b[38;5;124m\"\u001b[39m\n\u001b[1;32m    375\u001b[0m         \u001b[38;5;124mf\u001b[39m\u001b[38;5;124m\"\u001b[39m\u001b[38;5;124mPlease make sure that you are using an active run.\u001b[39m\u001b[38;5;124m\"\u001b[39m\n\u001b[1;32m    376\u001b[0m     )\n\u001b[1;32m    377\u001b[0m     resolved_message \u001b[38;5;241m=\u001b[39m message \u001b[38;5;129;01mor\u001b[39;00m default_message\n",
      "File \u001b[0;32m~/miniconda3/envs/nyc_airbnb_dev/lib/python3.10/site-packages/wandb/sdk/wandb_run.py:361\u001b[0m, in \u001b[0;36m_run_decorator._attach.<locals>.wrapper\u001b[0;34m(self, *args, **kwargs)\u001b[0m\n\u001b[1;32m    359\u001b[0m         \u001b[38;5;28;01mraise\u001b[39;00m e\n\u001b[1;32m    360\u001b[0m     \u001b[38;5;28mcls\u001b[39m\u001b[38;5;241m.\u001b[39m_is_attaching \u001b[38;5;241m=\u001b[39m \u001b[38;5;124m\"\u001b[39m\u001b[38;5;124m\"\u001b[39m\n\u001b[0;32m--> 361\u001b[0m \u001b[38;5;28;01mreturn\u001b[39;00m \u001b[43mfunc\u001b[49m\u001b[43m(\u001b[49m\u001b[38;5;28;43mself\u001b[39;49m\u001b[43m,\u001b[49m\u001b[43m \u001b[49m\u001b[38;5;241;43m*\u001b[39;49m\u001b[43margs\u001b[49m\u001b[43m,\u001b[49m\u001b[43m \u001b[49m\u001b[38;5;241;43m*\u001b[39;49m\u001b[38;5;241;43m*\u001b[39;49m\u001b[43mkwargs\u001b[49m\u001b[43m)\u001b[49m\n",
      "File \u001b[0;32m~/miniconda3/envs/nyc_airbnb_dev/lib/python3.10/site-packages/wandb/sdk/wandb_run.py:2769\u001b[0m, in \u001b[0;36mRun.use_artifact\u001b[0;34m(self, artifact_or_name, type, aliases, use_as)\u001b[0m\n\u001b[1;32m   2767\u001b[0m     name \u001b[38;5;241m=\u001b[39m artifact_or_name\n\u001b[1;32m   2768\u001b[0m public_api \u001b[38;5;241m=\u001b[39m \u001b[38;5;28mself\u001b[39m\u001b[38;5;241m.\u001b[39m_public_api()\n\u001b[0;32m-> 2769\u001b[0m artifact \u001b[38;5;241m=\u001b[39m \u001b[43mpublic_api\u001b[49m\u001b[38;5;241;43m.\u001b[39;49m\u001b[43martifact\u001b[49m\u001b[43m(\u001b[49m\u001b[38;5;28;43mtype\u001b[39;49m\u001b[38;5;241;43m=\u001b[39;49m\u001b[38;5;28;43mtype\u001b[39;49m\u001b[43m,\u001b[49m\u001b[43m \u001b[49m\u001b[43mname\u001b[49m\u001b[38;5;241;43m=\u001b[39;49m\u001b[43mname\u001b[49m\u001b[43m)\u001b[49m\n\u001b[1;32m   2770\u001b[0m \u001b[38;5;28;01mif\u001b[39;00m \u001b[38;5;28mtype\u001b[39m \u001b[38;5;129;01mis\u001b[39;00m \u001b[38;5;129;01mnot\u001b[39;00m \u001b[38;5;28;01mNone\u001b[39;00m \u001b[38;5;129;01mand\u001b[39;00m \u001b[38;5;28mtype\u001b[39m \u001b[38;5;241m!=\u001b[39m artifact\u001b[38;5;241m.\u001b[39mtype:\n\u001b[1;32m   2771\u001b[0m     \u001b[38;5;28;01mraise\u001b[39;00m \u001b[38;5;167;01mValueError\u001b[39;00m(\n\u001b[1;32m   2772\u001b[0m         \u001b[38;5;124m\"\u001b[39m\u001b[38;5;124mSupplied type \u001b[39m\u001b[38;5;132;01m{}\u001b[39;00m\u001b[38;5;124m does not match type \u001b[39m\u001b[38;5;132;01m{}\u001b[39;00m\u001b[38;5;124m of artifact \u001b[39m\u001b[38;5;132;01m{}\u001b[39;00m\u001b[38;5;124m\"\u001b[39m\u001b[38;5;241m.\u001b[39mformat(\n\u001b[1;32m   2773\u001b[0m             \u001b[38;5;28mtype\u001b[39m, artifact\u001b[38;5;241m.\u001b[39mtype, artifact\u001b[38;5;241m.\u001b[39mname\n\u001b[1;32m   2774\u001b[0m         )\n\u001b[1;32m   2775\u001b[0m     )\n",
      "File \u001b[0;32m~/miniconda3/envs/nyc_airbnb_dev/lib/python3.10/site-packages/wandb/apis/normalize.py:87\u001b[0m, in \u001b[0;36mnormalize_exceptions.<locals>.wrapper\u001b[0;34m(*args, **kwargs)\u001b[0m\n\u001b[1;32m     85\u001b[0m     \u001b[38;5;28;01mraise\u001b[39;00m\n\u001b[1;32m     86\u001b[0m \u001b[38;5;28;01melse\u001b[39;00m:\n\u001b[0;32m---> 87\u001b[0m     \u001b[38;5;28;01mraise\u001b[39;00m CommError(message, err)\u001b[38;5;241m.\u001b[39mwith_traceback(sys\u001b[38;5;241m.\u001b[39mexc_info()[\u001b[38;5;241m2\u001b[39m])\n",
      "File \u001b[0;32m~/miniconda3/envs/nyc_airbnb_dev/lib/python3.10/site-packages/wandb/apis/normalize.py:41\u001b[0m, in \u001b[0;36mnormalize_exceptions.<locals>.wrapper\u001b[0;34m(*args, **kwargs)\u001b[0m\n\u001b[1;32m     39\u001b[0m message \u001b[38;5;241m=\u001b[39m \u001b[38;5;124m\"\u001b[39m\u001b[38;5;124mWhoa, you found a bug.\u001b[39m\u001b[38;5;124m\"\u001b[39m\n\u001b[1;32m     40\u001b[0m \u001b[38;5;28;01mtry\u001b[39;00m:\n\u001b[0;32m---> 41\u001b[0m     \u001b[38;5;28;01mreturn\u001b[39;00m \u001b[43mfunc\u001b[49m\u001b[43m(\u001b[49m\u001b[38;5;241;43m*\u001b[39;49m\u001b[43margs\u001b[49m\u001b[43m,\u001b[49m\u001b[43m \u001b[49m\u001b[38;5;241;43m*\u001b[39;49m\u001b[38;5;241;43m*\u001b[39;49m\u001b[43mkwargs\u001b[49m\u001b[43m)\u001b[49m\n\u001b[1;32m     42\u001b[0m \u001b[38;5;28;01mexcept\u001b[39;00m requests\u001b[38;5;241m.\u001b[39mHTTPError \u001b[38;5;28;01mas\u001b[39;00m error:\n\u001b[1;32m     43\u001b[0m     errors \u001b[38;5;241m=\u001b[39m parse_backend_error_messages(error\u001b[38;5;241m.\u001b[39mresponse)\n",
      "File \u001b[0;32m~/miniconda3/envs/nyc_airbnb_dev/lib/python3.10/site-packages/wandb/apis/public.py:1040\u001b[0m, in \u001b[0;36mApi.artifact\u001b[0;34m(self, name, type)\u001b[0m\n\u001b[1;32m   1038\u001b[0m     \u001b[38;5;28;01mraise\u001b[39;00m \u001b[38;5;167;01mValueError\u001b[39;00m(\u001b[38;5;124m\"\u001b[39m\u001b[38;5;124mYou must specify name= to fetch an artifact.\u001b[39m\u001b[38;5;124m\"\u001b[39m)\n\u001b[1;32m   1039\u001b[0m entity, project, artifact_name \u001b[38;5;241m=\u001b[39m \u001b[38;5;28mself\u001b[39m\u001b[38;5;241m.\u001b[39m_parse_artifact_path(name)\n\u001b[0;32m-> 1040\u001b[0m artifact \u001b[38;5;241m=\u001b[39m \u001b[43mwandb\u001b[49m\u001b[38;5;241;43m.\u001b[39;49m\u001b[43mArtifact\u001b[49m\u001b[38;5;241;43m.\u001b[39;49m\u001b[43m_from_name\u001b[49m\u001b[43m(\u001b[49m\n\u001b[1;32m   1041\u001b[0m \u001b[43m    \u001b[49m\u001b[43mentity\u001b[49m\u001b[43m,\u001b[49m\u001b[43m \u001b[49m\u001b[43mproject\u001b[49m\u001b[43m,\u001b[49m\u001b[43m \u001b[49m\u001b[43martifact_name\u001b[49m\u001b[43m,\u001b[49m\u001b[43m \u001b[49m\u001b[38;5;28;43mself\u001b[39;49m\u001b[38;5;241;43m.\u001b[39;49m\u001b[43mclient\u001b[49m\n\u001b[1;32m   1042\u001b[0m \u001b[43m\u001b[49m\u001b[43m)\u001b[49m\n\u001b[1;32m   1043\u001b[0m \u001b[38;5;28;01mif\u001b[39;00m \u001b[38;5;28mtype\u001b[39m \u001b[38;5;129;01mis\u001b[39;00m \u001b[38;5;129;01mnot\u001b[39;00m \u001b[38;5;28;01mNone\u001b[39;00m \u001b[38;5;129;01mand\u001b[39;00m artifact\u001b[38;5;241m.\u001b[39mtype \u001b[38;5;241m!=\u001b[39m \u001b[38;5;28mtype\u001b[39m:\n\u001b[1;32m   1044\u001b[0m     \u001b[38;5;28;01mraise\u001b[39;00m \u001b[38;5;167;01mValueError\u001b[39;00m(\n\u001b[1;32m   1045\u001b[0m         \u001b[38;5;124mf\u001b[39m\u001b[38;5;124m\"\u001b[39m\u001b[38;5;124mtype \u001b[39m\u001b[38;5;132;01m{\u001b[39;00m\u001b[38;5;28mtype\u001b[39m\u001b[38;5;132;01m}\u001b[39;00m\u001b[38;5;124m specified but this artifact is of type \u001b[39m\u001b[38;5;132;01m{\u001b[39;00martifact\u001b[38;5;241m.\u001b[39mtype\u001b[38;5;132;01m}\u001b[39;00m\u001b[38;5;124m\"\u001b[39m\n\u001b[1;32m   1046\u001b[0m     )\n",
      "File \u001b[0;32m~/miniconda3/envs/nyc_airbnb_dev/lib/python3.10/site-packages/wandb/sdk/artifacts/artifact.py:256\u001b[0m, in \u001b[0;36mArtifact._from_name\u001b[0;34m(cls, entity, project, name, client)\u001b[0m\n\u001b[1;32m    254\u001b[0m attrs \u001b[38;5;241m=\u001b[39m response\u001b[38;5;241m.\u001b[39mget(\u001b[38;5;124m\"\u001b[39m\u001b[38;5;124mproject\u001b[39m\u001b[38;5;124m\"\u001b[39m, {})\u001b[38;5;241m.\u001b[39mget(\u001b[38;5;124m\"\u001b[39m\u001b[38;5;124martifact\u001b[39m\u001b[38;5;124m\"\u001b[39m)\n\u001b[1;32m    255\u001b[0m \u001b[38;5;28;01mif\u001b[39;00m attrs \u001b[38;5;129;01mis\u001b[39;00m \u001b[38;5;28;01mNone\u001b[39;00m:\n\u001b[0;32m--> 256\u001b[0m     \u001b[38;5;28;01mraise\u001b[39;00m \u001b[38;5;167;01mValueError\u001b[39;00m(\n\u001b[1;32m    257\u001b[0m         \u001b[38;5;124mf\u001b[39m\u001b[38;5;124m\"\u001b[39m\u001b[38;5;124mUnable to fetch artifact with name \u001b[39m\u001b[38;5;132;01m{\u001b[39;00mentity\u001b[38;5;132;01m}\u001b[39;00m\u001b[38;5;124m/\u001b[39m\u001b[38;5;132;01m{\u001b[39;00mproject\u001b[38;5;132;01m}\u001b[39;00m\u001b[38;5;124m/\u001b[39m\u001b[38;5;132;01m{\u001b[39;00mname\u001b[38;5;132;01m}\u001b[39;00m\u001b[38;5;124m\"\u001b[39m\n\u001b[1;32m    258\u001b[0m     )\n\u001b[1;32m    259\u001b[0m \u001b[38;5;28;01mreturn\u001b[39;00m \u001b[38;5;28mcls\u001b[39m\u001b[38;5;241m.\u001b[39m_from_attrs(entity, project, name, attrs, client)\n",
      "\u001b[0;31mCommError\u001b[0m: Unable to fetch artifact with name gerald-donofrio1-western-governors-university/nyc_airbnb/sample.csv:latest"
     ]
    }
   ],
   "source": [
    "import wandb\n",
    "import pandas as pd\n",
    "# Note that we use save_code=True in the call to wandb.init so the notebook is uploaded and versioned by W&B\n",
    "run = wandb.init(project=\"nyc_airbnb\", group=\"eda\", save_code=True)\n",
    "local_path = wandb.use_artifact(\"sample.csv:latest\").file()\n",
    "df = pd.read_csv(local_path)"
   ]
  },
  {
   "cell_type": "markdown",
   "id": "472b8c0d",
   "metadata": {},
   "source": [
    "2. Explore the data in df"
   ]
  },
  {
   "cell_type": "code",
   "execution_count": 8,
   "id": "e7902159",
   "metadata": {},
   "outputs": [
    {
     "ename": "NameError",
     "evalue": "name 'df' is not defined",
     "output_type": "error",
     "traceback": [
      "\u001b[0;31m---------------------------------------------------------------------------\u001b[0m",
      "\u001b[0;31mNameError\u001b[0m                                 Traceback (most recent call last)",
      "Cell \u001b[0;32mIn[8], line 1\u001b[0m\n\u001b[0;32m----> 1\u001b[0m \u001b[43mdf\u001b[49m\u001b[38;5;241m.\u001b[39minfo()\n",
      "\u001b[0;31mNameError\u001b[0m: name 'df' is not defined"
     ]
    }
   ],
   "source": [
    "df.info()"
   ]
  },
  {
   "cell_type": "code",
   "execution_count": 9,
   "id": "ef6f1457",
   "metadata": {},
   "outputs": [
    {
     "ename": "NameError",
     "evalue": "name 'df' is not defined",
     "output_type": "error",
     "traceback": [
      "\u001b[0;31m---------------------------------------------------------------------------\u001b[0m",
      "\u001b[0;31mNameError\u001b[0m                                 Traceback (most recent call last)",
      "Cell \u001b[0;32mIn[9], line 1\u001b[0m\n\u001b[0;32m----> 1\u001b[0m \u001b[43mdf\u001b[49m\u001b[38;5;241m.\u001b[39mdescribe()\n",
      "\u001b[0;31mNameError\u001b[0m: name 'df' is not defined"
     ]
    }
   ],
   "source": [
    "df.describe()"
   ]
  },
  {
   "cell_type": "code",
   "execution_count": 10,
   "id": "13548f59",
   "metadata": {},
   "outputs": [
    {
     "ename": "NameError",
     "evalue": "name 'df' is not defined",
     "output_type": "error",
     "traceback": [
      "\u001b[0;31m---------------------------------------------------------------------------\u001b[0m",
      "\u001b[0;31mNameError\u001b[0m                                 Traceback (most recent call last)",
      "Cell \u001b[0;32mIn[10], line 1\u001b[0m\n\u001b[0;32m----> 1\u001b[0m \u001b[43mdf\u001b[49m\u001b[38;5;241m.\u001b[39mhead()\n",
      "\u001b[0;31mNameError\u001b[0m: name 'df' is not defined"
     ]
    }
   ],
   "source": [
    "df.head()"
   ]
  },
  {
   "cell_type": "markdown",
   "id": "ecfee692",
   "metadata": {},
   "source": [
    "3. What do you notice in the data? Look around and see what you can find.\n",
    "\n",
    "> For example, there are missing values in a few columns and the column `last_review` is a date but it is in string format. Look also at the `price` column, and note the outliers. There are some zeros and some very high prices. After talking to your stakeholders, you decide to consider from a minimum of `$10` to a maximum of `$350` per night."
   ]
  },
  {
   "cell_type": "markdown",
   "id": "b4bb415f",
   "metadata": {},
   "source": [
    "4. Fix some of the little problems we have found in the data with the following code:"
   ]
  },
  {
   "cell_type": "code",
   "execution_count": 11,
   "id": "4d685317",
   "metadata": {},
   "outputs": [
    {
     "ename": "NameError",
     "evalue": "name 'df' is not defined",
     "output_type": "error",
     "traceback": [
      "\u001b[0;31m---------------------------------------------------------------------------\u001b[0m",
      "\u001b[0;31mNameError\u001b[0m                                 Traceback (most recent call last)",
      "Cell \u001b[0;32mIn[11], line 4\u001b[0m\n\u001b[1;32m      2\u001b[0m min_price \u001b[38;5;241m=\u001b[39m \u001b[38;5;241m10\u001b[39m\n\u001b[1;32m      3\u001b[0m max_price \u001b[38;5;241m=\u001b[39m \u001b[38;5;241m350\u001b[39m\n\u001b[0;32m----> 4\u001b[0m idx \u001b[38;5;241m=\u001b[39m \u001b[43mdf\u001b[49m[\u001b[38;5;124m'\u001b[39m\u001b[38;5;124mprice\u001b[39m\u001b[38;5;124m'\u001b[39m]\u001b[38;5;241m.\u001b[39mbetween(min_price, max_price)\n\u001b[1;32m      5\u001b[0m df \u001b[38;5;241m=\u001b[39m df[idx]\u001b[38;5;241m.\u001b[39mcopy()\n\u001b[1;32m      6\u001b[0m \u001b[38;5;66;03m# Convert last_review to datetime\u001b[39;00m\n",
      "\u001b[0;31mNameError\u001b[0m: name 'df' is not defined"
     ]
    }
   ],
   "source": [
    "# Drop outliers\n",
    "min_price = 10\n",
    "max_price = 350\n",
    "idx = df['price'].between(min_price, max_price)\n",
    "df = df[idx].copy()\n",
    "# Convert last_review to datetime\n",
    "df['last_review'] = pd.to_datetime(df['last_review'])"
   ]
  },
  {
   "cell_type": "markdown",
   "id": "17990df4",
   "metadata": {},
   "source": [
    "Note how we did not impute missing values. We will do that in the inference pipeline, so we will be able to handle missing values also in production."
   ]
  },
  {
   "cell_type": "markdown",
   "id": "09287f29",
   "metadata": {},
   "source": [
    "5. Check with df.info() that all obvious problems have been solved"
   ]
  },
  {
   "cell_type": "code",
   "execution_count": null,
   "id": "b83b4970",
   "metadata": {},
   "outputs": [],
   "source": [
    "df.info()"
   ]
  },
  {
   "cell_type": "markdown",
   "id": "d727e697",
   "metadata": {},
   "source": [
    "6. Terminate the run by running `run.finish()`"
   ]
  },
  {
   "cell_type": "code",
   "execution_count": null,
   "id": "48b38586",
   "metadata": {},
   "outputs": [],
   "source": [
    "run.finish()"
   ]
  },
  {
   "cell_type": "markdown",
   "id": "13f82b21",
   "metadata": {},
   "source": [
    "7. Save the notebook."
   ]
  }
 ],
 "metadata": {
  "kernelspec": {
   "display_name": "Python 3 (ipykernel)",
   "language": "python",
   "name": "python3"
  },
  "language_info": {
   "codemirror_mode": {
    "name": "ipython",
    "version": 3
   },
   "file_extension": ".py",
   "mimetype": "text/x-python",
   "name": "python",
   "nbconvert_exporter": "python",
   "pygments_lexer": "ipython3",
   "version": "3.10.15"
  }
 },
 "nbformat": 4,
 "nbformat_minor": 5
}
